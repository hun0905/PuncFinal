{
 "cells": [
  {
   "cell_type": "code",
   "execution_count": 1,
   "metadata": {},
   "outputs": [],
   "source": [
    "import re\n",
    "in_path = ''\n",
    "out_path = ''\n",
    "file = open(in_path,'r').readlines()\n",
    "out_file = open(out_path,'w')\n",
    "for s in file:\n",
    "    out_file.write(re.sub(r'[^\\w\\s]','',s) )"
   ]
  }
 ],
 "metadata": {
  "interpreter": {
   "hash": "4721f9f90a043d92980dd1afa43594e599d70ba0a83e7f896b6179dbac8637e7"
  },
  "kernelspec": {
   "display_name": "Python 3.8.11 ('train')",
   "language": "python",
   "name": "python3"
  },
  "language_info": {
   "codemirror_mode": {
    "name": "ipython",
    "version": 3
   },
   "file_extension": ".py",
   "mimetype": "text/x-python",
   "name": "python",
   "nbconvert_exporter": "python",
   "pygments_lexer": "ipython3",
   "version": "3.8.11"
  },
  "orig_nbformat": 4
 },
 "nbformat": 4,
 "nbformat_minor": 2
}
